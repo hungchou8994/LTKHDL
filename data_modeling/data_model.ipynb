{
 "cells": [
  {
   "cell_type": "markdown",
   "id": "8a066275-1a57-451f-a7a7-397cba4c3957",
   "metadata": {},
   "source": [
    "# Data Modeling"
   ]
  },
  {
   "cell_type": "markdown",
   "id": "749acb58-05ab-4953-875d-36e4a39bc060",
   "metadata": {},
   "source": [
    "## 1. Phát biểu bài toán"
   ]
  },
  {
   "cell_type": "markdown",
   "id": "33d02f0e-4485-4d51-8731-e67c463e95b4",
   "metadata": {
    "jp-MarkdownHeadingCollapsed": true
   },
   "source": [
    "### **Đề tài: Phân nhóm nhân viên dựa trên đặc trưng công việc và hiệu suất để tối ưu hóa quản lý nhân sự**\n",
    "#### Phát biểu bài toán:\n",
    "\n",
    "Bài toán đặt ra là phân nhóm nhân viên của một công ty thành các nhóm có đặc trưng tương tự nhau dựa trên các yếu tố như độ tuổi, trình độ học vấn, thâm niên tại công ty, sự hài lòng với công việc, hiệu suất làm việc, và các yếu tố môi trường như làm thêm giờ và cân bằng công việc/cuộc sống. Mục tiêu là nhận diện các nhóm nhân viên có đặc điểm chung, từ đó đưa ra các chiến lược phù hợp về đào tạo, thăng tiến, giữ chân nhân viên, và cải thiện hiệu suất làm việc.\n",
    "\n",
    "#### Câu hỏi nghiên cứu:\n",
    "\n",
    "- **Làm thế nào để nhóm các nhân viên có đặc điểm tương tự nhau để tối ưu hóa các chiến lược nhân sự?**\n",
    "    - Câu hỏi này nhằm tìm ra các nhóm nhân viên có những đặc trưng giống nhau, như nhóm nhân viên có mức độ hài lòng cao nhưng hiệu suất thấp, hoặc nhóm nhân viên có thâm niên dài nhưng ít làm thêm giờ. Mục tiêu là phân tích dữ liệu nhân viên để xác định các nhóm này và tìm ra các chiến lược phù hợp cho từng nhóm.\n",
    "\n",
    "- **Làm sao để phân nhóm nhân viên theo các yếu tố ảnh hưởng đến sự hài lòng và hiệu suất công việc?**\n",
    "    - Câu hỏi này hướng đến việc tìm hiểu các yếu tố (như môi trường làm việc, công việc, thâm niên, và đánh giá hiệu suất) ảnh hưởng đến sự hài lòng và hiệu suất của từng nhóm nhân viên. Bằng cách phân nhóm, các nhà quản lý có thể phát triển các chiến lược nhân sự tốt hơn cho từng nhóm, từ việc tạo điều kiện làm việc thoải mái hơn cho nhóm ít hài lòng, đến việc động viên nhóm nhân viên có hiệu suất thấp.\n",
    "\n",
    "#### Giải quyết bài toán có thể giúp gì?\n",
    "\n",
    "- **Tối ưu hóa chiến lược đào tạo và phát triển**: Khi nhân viên được phân nhóm dựa trên nhu cầu và mức độ hài lòng, công ty có thể đưa ra chương trình đào tạo và phát triển nghề nghiệp phù hợp cho từng nhóm. Ví dụ, nhóm nhân viên có hiệu suất cao và hài lòng có thể được đào tạo để thăng tiến, trong khi nhóm có hiệu suất thấp cần các chương trình hỗ trợ hoặc đào tạo nâng cao.\n",
    "\n",
    "- **Giảm thiểu tình trạng nhân viên rời bỏ công ty**: Bằng cách phân nhóm nhân viên có nguy cơ rời bỏ cao (ví dụ: nhóm có thâm niên thấp và sự hài lòng thấp), công ty có thể áp dụng các biện pháp giữ chân nhân viên như thay đổi môi trường làm việc hoặc tăng cường phúc lợi.\n",
    "\n",
    "- **Cải thiện hiệu suất và sự hài lòng của nhân viên**: Phân nhóm giúp công ty nhận diện rõ các vấn đề trong môi trường làm việc và cải thiện sự hài lòng cho các nhóm nhân viên, từ đó nâng cao hiệu suất chung.\n",
    "\n",
    "- **Quản lý và phân bổ nguồn lực hiệu quả**: Việc phân nhóm nhân viên giúp nhà quản lý có cái nhìn rõ ràng hơn về các nhóm nhân viên khác nhau trong công ty và từ đó đưa ra các quyết định phân bổ nguồn lực hiệu quả hơn (ví dụ: ưu tiên đào tạo cho nhóm nhân viên cần hỗ trợ thêm hoặc cải thiện môi trường làm việc cho nhóm có mức độ hài lòng thấp).\n",
    "\n",
    "Tóm lại, khi trả lời các câu hỏi trên, chúng ta có thể giải quyết các vấn đề về tối ưu hóa quản lý nhân sự, cải thiện sự hài lòng và hiệu suất công việc, đồng thời đưa ra các chiến lược phù hợp để giữ chân nhân viên và phát triển công ty."
   ]
  },
  {
   "cell_type": "markdown",
   "id": "c598c9af-237a-4543-b022-91379148e266",
   "metadata": {},
   "source": [
    "## 2. Chuẩn bị dữ liệu"
   ]
  },
  {
   "cell_type": "markdown",
   "id": "28d8dce4-328a-42f1-9a8b-f172bfb2bea1",
   "metadata": {},
   "source": [
    "Trước khi mô hình móa thì dữ liệu cần phải được chuẩn bị kĩ lưỡng theo những bước sau:\n",
    "### **2.1 Đọc dữ liệu vào và xem các cột**"
   ]
  },
  {
   "cell_type": "markdown",
   "id": "777137fb-b27a-42ff-be40-f6f2190e355a",
   "metadata": {},
   "source": [
    "Đọc dữ liệu từ file đã được tiền xử lý trước đó là `IBM_data_processed.csv`"
   ]
  },
  {
   "cell_type": "code",
   "execution_count": 1,
   "id": "d35a079b-6005-495f-9ade-7b006e9ef705",
   "metadata": {},
   "outputs": [
    {
     "data": {
      "text/html": [
       "<div>\n",
       "<style scoped>\n",
       "    .dataframe tbody tr th:only-of-type {\n",
       "        vertical-align: middle;\n",
       "    }\n",
       "\n",
       "    .dataframe tbody tr th {\n",
       "        vertical-align: top;\n",
       "    }\n",
       "\n",
       "    .dataframe thead th {\n",
       "        text-align: right;\n",
       "    }\n",
       "</style>\n",
       "<table border=\"1\" class=\"dataframe\">\n",
       "  <thead>\n",
       "    <tr style=\"text-align: right;\">\n",
       "      <th></th>\n",
       "      <th>Age</th>\n",
       "      <th>Attrition</th>\n",
       "      <th>BusinessTravel</th>\n",
       "      <th>DailyRate</th>\n",
       "      <th>Department</th>\n",
       "      <th>DistanceFromHome</th>\n",
       "      <th>Education</th>\n",
       "      <th>EducationField</th>\n",
       "      <th>EmployeeNumber</th>\n",
       "      <th>EnvironmentSatisfaction</th>\n",
       "      <th>Gender</th>\n",
       "      <th>HourlyRate</th>\n",
       "      <th>JobInvolvement</th>\n",
       "      <th>JobLevel</th>\n",
       "      <th>JobRole</th>\n",
       "      <th>JobSatisfaction</th>\n",
       "      <th>MaritalStatus</th>\n",
       "      <th>MonthlyIncome</th>\n",
       "      <th>MonthlyRate</th>\n",
       "      <th>NumCompaniesWorked</th>\n",
       "      <th>OverTime</th>\n",
       "      <th>PercentSalaryHike</th>\n",
       "      <th>PerformanceRating</th>\n",
       "      <th>RelationshipSatisfaction</th>\n",
       "      <th>StockOptionLevel</th>\n",
       "      <th>TotalWorkingYears</th>\n",
       "      <th>TrainingTimesLastYear</th>\n",
       "      <th>WorkLifeBalance</th>\n",
       "      <th>YearsAtCompany</th>\n",
       "      <th>YearsInCurrentRole</th>\n",
       "      <th>YearsSinceLastPromotion</th>\n",
       "      <th>YearsWithCurrManager</th>\n",
       "    </tr>\n",
       "  </thead>\n",
       "  <tbody>\n",
       "    <tr>\n",
       "      <th>0</th>\n",
       "      <td>41</td>\n",
       "      <td>Yes</td>\n",
       "      <td>Travel_Rarely</td>\n",
       "      <td>1102</td>\n",
       "      <td>Sales</td>\n",
       "      <td>1</td>\n",
       "      <td>2</td>\n",
       "      <td>Life Sciences</td>\n",
       "      <td>1</td>\n",
       "      <td>2</td>\n",
       "      <td>Female</td>\n",
       "      <td>94</td>\n",
       "      <td>3</td>\n",
       "      <td>2</td>\n",
       "      <td>Sales Executive</td>\n",
       "      <td>4</td>\n",
       "      <td>Single</td>\n",
       "      <td>5993</td>\n",
       "      <td>19479</td>\n",
       "      <td>8</td>\n",
       "      <td>Yes</td>\n",
       "      <td>11</td>\n",
       "      <td>3</td>\n",
       "      <td>1</td>\n",
       "      <td>0</td>\n",
       "      <td>8</td>\n",
       "      <td>0</td>\n",
       "      <td>1</td>\n",
       "      <td>6</td>\n",
       "      <td>4</td>\n",
       "      <td>0</td>\n",
       "      <td>5</td>\n",
       "    </tr>\n",
       "    <tr>\n",
       "      <th>1</th>\n",
       "      <td>49</td>\n",
       "      <td>No</td>\n",
       "      <td>Travel_Frequently</td>\n",
       "      <td>279</td>\n",
       "      <td>Research &amp; Development</td>\n",
       "      <td>8</td>\n",
       "      <td>1</td>\n",
       "      <td>Life Sciences</td>\n",
       "      <td>2</td>\n",
       "      <td>3</td>\n",
       "      <td>Male</td>\n",
       "      <td>61</td>\n",
       "      <td>2</td>\n",
       "      <td>2</td>\n",
       "      <td>Research Scientist</td>\n",
       "      <td>2</td>\n",
       "      <td>Married</td>\n",
       "      <td>5130</td>\n",
       "      <td>24907</td>\n",
       "      <td>1</td>\n",
       "      <td>No</td>\n",
       "      <td>23</td>\n",
       "      <td>4</td>\n",
       "      <td>4</td>\n",
       "      <td>1</td>\n",
       "      <td>10</td>\n",
       "      <td>3</td>\n",
       "      <td>3</td>\n",
       "      <td>10</td>\n",
       "      <td>7</td>\n",
       "      <td>1</td>\n",
       "      <td>7</td>\n",
       "    </tr>\n",
       "    <tr>\n",
       "      <th>2</th>\n",
       "      <td>37</td>\n",
       "      <td>Yes</td>\n",
       "      <td>Travel_Rarely</td>\n",
       "      <td>1373</td>\n",
       "      <td>Research &amp; Development</td>\n",
       "      <td>2</td>\n",
       "      <td>2</td>\n",
       "      <td>Other</td>\n",
       "      <td>4</td>\n",
       "      <td>4</td>\n",
       "      <td>Male</td>\n",
       "      <td>92</td>\n",
       "      <td>2</td>\n",
       "      <td>1</td>\n",
       "      <td>Laboratory Technician</td>\n",
       "      <td>3</td>\n",
       "      <td>Single</td>\n",
       "      <td>2090</td>\n",
       "      <td>2396</td>\n",
       "      <td>6</td>\n",
       "      <td>Yes</td>\n",
       "      <td>15</td>\n",
       "      <td>3</td>\n",
       "      <td>2</td>\n",
       "      <td>0</td>\n",
       "      <td>7</td>\n",
       "      <td>3</td>\n",
       "      <td>3</td>\n",
       "      <td>0</td>\n",
       "      <td>0</td>\n",
       "      <td>0</td>\n",
       "      <td>0</td>\n",
       "    </tr>\n",
       "    <tr>\n",
       "      <th>3</th>\n",
       "      <td>33</td>\n",
       "      <td>No</td>\n",
       "      <td>Travel_Frequently</td>\n",
       "      <td>1392</td>\n",
       "      <td>Research &amp; Development</td>\n",
       "      <td>3</td>\n",
       "      <td>4</td>\n",
       "      <td>Life Sciences</td>\n",
       "      <td>5</td>\n",
       "      <td>4</td>\n",
       "      <td>Female</td>\n",
       "      <td>56</td>\n",
       "      <td>3</td>\n",
       "      <td>1</td>\n",
       "      <td>Research Scientist</td>\n",
       "      <td>3</td>\n",
       "      <td>Married</td>\n",
       "      <td>2909</td>\n",
       "      <td>23159</td>\n",
       "      <td>1</td>\n",
       "      <td>Yes</td>\n",
       "      <td>11</td>\n",
       "      <td>3</td>\n",
       "      <td>3</td>\n",
       "      <td>0</td>\n",
       "      <td>8</td>\n",
       "      <td>3</td>\n",
       "      <td>3</td>\n",
       "      <td>8</td>\n",
       "      <td>7</td>\n",
       "      <td>3</td>\n",
       "      <td>0</td>\n",
       "    </tr>\n",
       "    <tr>\n",
       "      <th>4</th>\n",
       "      <td>27</td>\n",
       "      <td>No</td>\n",
       "      <td>Travel_Rarely</td>\n",
       "      <td>591</td>\n",
       "      <td>Research &amp; Development</td>\n",
       "      <td>2</td>\n",
       "      <td>1</td>\n",
       "      <td>Medical</td>\n",
       "      <td>7</td>\n",
       "      <td>1</td>\n",
       "      <td>Male</td>\n",
       "      <td>40</td>\n",
       "      <td>3</td>\n",
       "      <td>1</td>\n",
       "      <td>Laboratory Technician</td>\n",
       "      <td>2</td>\n",
       "      <td>Married</td>\n",
       "      <td>3468</td>\n",
       "      <td>16632</td>\n",
       "      <td>9</td>\n",
       "      <td>No</td>\n",
       "      <td>12</td>\n",
       "      <td>3</td>\n",
       "      <td>4</td>\n",
       "      <td>1</td>\n",
       "      <td>6</td>\n",
       "      <td>3</td>\n",
       "      <td>3</td>\n",
       "      <td>2</td>\n",
       "      <td>2</td>\n",
       "      <td>2</td>\n",
       "      <td>2</td>\n",
       "    </tr>\n",
       "  </tbody>\n",
       "</table>\n",
       "</div>"
      ],
      "text/plain": [
       "   Age Attrition     BusinessTravel  DailyRate              Department  \\\n",
       "0   41       Yes      Travel_Rarely       1102                   Sales   \n",
       "1   49        No  Travel_Frequently        279  Research & Development   \n",
       "2   37       Yes      Travel_Rarely       1373  Research & Development   \n",
       "3   33        No  Travel_Frequently       1392  Research & Development   \n",
       "4   27        No      Travel_Rarely        591  Research & Development   \n",
       "\n",
       "   DistanceFromHome  Education EducationField  EmployeeNumber  \\\n",
       "0                 1          2  Life Sciences               1   \n",
       "1                 8          1  Life Sciences               2   \n",
       "2                 2          2          Other               4   \n",
       "3                 3          4  Life Sciences               5   \n",
       "4                 2          1        Medical               7   \n",
       "\n",
       "   EnvironmentSatisfaction  Gender  HourlyRate  JobInvolvement  JobLevel  \\\n",
       "0                        2  Female          94               3         2   \n",
       "1                        3    Male          61               2         2   \n",
       "2                        4    Male          92               2         1   \n",
       "3                        4  Female          56               3         1   \n",
       "4                        1    Male          40               3         1   \n",
       "\n",
       "                 JobRole  JobSatisfaction MaritalStatus  MonthlyIncome  \\\n",
       "0        Sales Executive                4        Single           5993   \n",
       "1     Research Scientist                2       Married           5130   \n",
       "2  Laboratory Technician                3        Single           2090   \n",
       "3     Research Scientist                3       Married           2909   \n",
       "4  Laboratory Technician                2       Married           3468   \n",
       "\n",
       "   MonthlyRate  NumCompaniesWorked OverTime  PercentSalaryHike  \\\n",
       "0        19479                   8      Yes                 11   \n",
       "1        24907                   1       No                 23   \n",
       "2         2396                   6      Yes                 15   \n",
       "3        23159                   1      Yes                 11   \n",
       "4        16632                   9       No                 12   \n",
       "\n",
       "   PerformanceRating  RelationshipSatisfaction  StockOptionLevel  \\\n",
       "0                  3                         1                 0   \n",
       "1                  4                         4                 1   \n",
       "2                  3                         2                 0   \n",
       "3                  3                         3                 0   \n",
       "4                  3                         4                 1   \n",
       "\n",
       "   TotalWorkingYears  TrainingTimesLastYear  WorkLifeBalance  YearsAtCompany  \\\n",
       "0                  8                      0                1               6   \n",
       "1                 10                      3                3              10   \n",
       "2                  7                      3                3               0   \n",
       "3                  8                      3                3               8   \n",
       "4                  6                      3                3               2   \n",
       "\n",
       "   YearsInCurrentRole  YearsSinceLastPromotion  YearsWithCurrManager  \n",
       "0                   4                        0                     5  \n",
       "1                   7                        1                     7  \n",
       "2                   0                        0                     0  \n",
       "3                   7                        3                     0  \n",
       "4                   2                        2                     2  "
      ]
     },
     "execution_count": 1,
     "metadata": {},
     "output_type": "execute_result"
    }
   ],
   "source": [
    "import numpy as np\n",
    "import pandas as pd\n",
    "\n",
    "df = pd.read_csv('../IBM_data_processed.csv')\n",
    "pd.set_option('display.max_columns', None)\n",
    "df.head()"
   ]
  },
  {
   "cell_type": "markdown",
   "id": "8dc7dcb3-661a-4d9c-a335-766e0223296d",
   "metadata": {},
   "source": [
    "### **2.2 Lựa chọn các đặc trưng**"
   ]
  },
  {
   "cell_type": "markdown",
   "id": "b5bd374f-69db-457e-9ae7-96e58588ed36",
   "metadata": {},
   "source": [
    "**Đầu vào (Input)**: Bộ dữ liệu chứa thông tin của nhân viên, với các đặc trưng đã được xử lý phù hợp:\n",
    "\n",
    "- Đặc trưng cá nhân:\n",
    "    - `Age` (Tuổi): Biến liên tục.\n",
    "    - `Education` (Trình độ học vấn): Biến thứ tự\n",
    "    - `MaritalStatus` (Tình trạng hôn nhân): Biến phân loại, cần mã hóa.\n",
    "    - `Gender` (Giới tính): Biến nhị phân, cần mã hóa (0 = Nam, 1 = Nữ).\n",
    "\n",
    "- Hiệu suất và sự hài lòng:\n",
    "    - `PerformanceRating` (Đánh giá hiệu suất): Biến thứ tự (ordinal).\n",
    "    - `JobSatisfaction` (Hài lòng với công việc): Biến thứ tự.\n",
    "\n",
    "- Thâm niên và kinh nghiệm:\n",
    "    - `YearsAtCompany` (Số năm tại công ty): Biến liên tục.\n",
    "\n",
    "- Trách nhiệm công việc:\n",
    "    - `JobRole` (Vai trò công việc): Biến phân loại, cần mã hóa.\n",
    "    - `JobLevel` (Cấp độ công việc): Biến thứ tự.\n",
    "\n",
    "- Yếu tố môi trường:\n",
    "    - `OverTime` (Làm thêm giờ): Biến nhị phân (0 = Không, 1 = Có)."
   ]
  },
  {
   "cell_type": "code",
   "execution_count": 2,
   "id": "b452b606-d05e-43bb-a0e6-755cfffe96b0",
   "metadata": {},
   "outputs": [],
   "source": [
    "feature_names = ['Age','Education','MaritalStatus','Gender','PerformanceRating','JobSatisfaction'\n",
    "                 ,'YearsAtCompany','JobRole','JobLevel','OverTime']"
   ]
  },
  {
   "cell_type": "markdown",
   "id": "261d34ab-a726-4189-a7b5-9dc9fdca3c45",
   "metadata": {},
   "source": [
    "Kiểu dữ liệu ban đầu trước khi mã hóa"
   ]
  },
  {
   "cell_type": "code",
   "execution_count": 3,
   "id": "0d5bdc60-cb95-4246-a030-2a102f34142d",
   "metadata": {},
   "outputs": [
    {
     "data": {
      "text/plain": [
       "Age                   int64\n",
       "Education             int64\n",
       "MaritalStatus        object\n",
       "Gender               object\n",
       "PerformanceRating     int64\n",
       "JobSatisfaction       int64\n",
       "YearsAtCompany        int64\n",
       "JobRole              object\n",
       "JobLevel              int64\n",
       "OverTime             object\n",
       "dtype: object"
      ]
     },
     "execution_count": 3,
     "metadata": {},
     "output_type": "execute_result"
    }
   ],
   "source": [
    "df[feature_names].dtypes"
   ]
  },
  {
   "cell_type": "markdown",
   "id": "f19b4175-a91e-4e0d-83a3-8c900fcb8eaf",
   "metadata": {},
   "source": [
    "Ta thấy cần phải mã hóa lại các đặc trưng có kiểu object để có thể thực hiện mô hình học không giám sát K-Means"
   ]
  },
  {
   "cell_type": "markdown",
   "id": "30483bce-9062-4c36-954e-1b838f44b830",
   "metadata": {},
   "source": [
    "### **2.3 Mã hóa và chuẩn hóa các đặc trưng**"
   ]
  },
  {
   "cell_type": "markdown",
   "id": "e3263e53-bdeb-4517-b2c6-1177bc698157",
   "metadata": {},
   "source": [
    "### **Mã hóa** "
   ]
  },
  {
   "cell_type": "markdown",
   "id": "4ea45b7a-ee74-4525-85e5-0b0719ecee0c",
   "metadata": {},
   "source": [
    "Đối với các biến phân loại như `MaritalStatus`, `JobRole` thì sẽ dùng phương pháp mã hóa Label Encoding để ánh xạ mỗi giá trị danh mục thành một số nguyên duy nhất. Ví dụ:\n",
    "- **Single** -> 0\n",
    "- **Married** -> 1\n",
    "- **Divorced** -> 2"
   ]
  },
  {
   "cell_type": "code",
   "execution_count": 4,
   "id": "a2b9be1a-0de5-4708-8846-9de8e88a6bcc",
   "metadata": {},
   "outputs": [],
   "source": [
    "from sklearn.preprocessing import LabelEncoder\n",
    "# Tạo đối tượng LabelEncoder\n",
    "label_encoder = LabelEncoder()\n",
    "\n",
    "df['MaritalStatus'] = label_encoder.fit_transform(df['MaritalStatus'])\n",
    "df['JobRole'] = label_encoder.fit_transform(df['JobRole'])"
   ]
  },
  {
   "cell_type": "markdown",
   "id": "3379419c-eed5-47f1-b223-2990278236af",
   "metadata": {},
   "source": [
    "Đối với các biến nhị phân như `Gender` và `OverTime` thì chỉ có 2 giá trị là **Male/Female** hay **Yes/No** nên cần ánh xạ các giá trị này về các biến nhị phân có giá trị 0/1"
   ]
  },
  {
   "cell_type": "code",
   "execution_count": 5,
   "id": "2aca3a1c-8419-4875-8c94-58155c2a5f8d",
   "metadata": {},
   "outputs": [],
   "source": [
    "df['Gender'] = df['Gender'].map({'Male': 1, 'Female': 0})\n",
    "df['OverTime'] = df['OverTime'].map({'Yes': 1, 'No': 0})"
   ]
  },
  {
   "cell_type": "markdown",
   "id": "b162f2b5-5b4c-44cd-a267-27891922422d",
   "metadata": {},
   "source": [
    "Kiểm tra các kiểu dữ liệu của các đặc trưng sau khi mã hóa"
   ]
  },
  {
   "cell_type": "code",
   "execution_count": 6,
   "id": "6601ccc0-8d0f-4509-8bce-9863ce2afdc9",
   "metadata": {},
   "outputs": [
    {
     "data": {
      "text/plain": [
       "Age                  int64\n",
       "Education            int64\n",
       "MaritalStatus        int64\n",
       "Gender               int64\n",
       "PerformanceRating    int64\n",
       "JobSatisfaction      int64\n",
       "YearsAtCompany       int64\n",
       "JobRole              int64\n",
       "JobLevel             int64\n",
       "OverTime             int64\n",
       "dtype: object"
      ]
     },
     "execution_count": 6,
     "metadata": {},
     "output_type": "execute_result"
    }
   ],
   "source": [
    "df[feature_names].dtypes"
   ]
  },
  {
   "cell_type": "markdown",
   "id": "d7fb2ae5-5dca-4f13-b348-699bb92fe1d3",
   "metadata": {},
   "source": [
    "### **Chuẩn hóa**"
   ]
  },
  {
   "cell_type": "markdown",
   "id": "b77cc12d-e705-417e-aa19-11dc8e14e031",
   "metadata": {},
   "source": [
    "Khi áp dụng thuật toán K-Means Clustering, chuẩn hóa dữ liệu là một bước quan trọng để đảm bảo rằng các đặc trưng có ảnh hưởng tương đương đến kết quả phân cụm. Điều này đặc biệt quan trọng vì K-Means dựa trên khoảng cách Euclidean để xác định sự gần gũi giữa các điểm dữ liệu. Nếu các đặc trưng có đơn vị hoặc phạm vi giá trị khác nhau, các đặc trưng có phạm vi giá trị lớn hơn sẽ chi phối quá trình phân cụm, dẫn đến kết quả không chính xác.\n",
    "\n",
    "Để có thể chuẩn hóa thì sẽ dùng MinMaxScaler() với công thức như sau:\n",
    "$$\n",
    "x_\\text{scaled} = \\frac{x - x_\\text{min}}{x_\\text{max} - x_\\text{min}}\n",
    "$$"
   ]
  },
  {
   "cell_type": "code",
   "execution_count": 7,
   "id": "b0c61b3e-ec15-45bd-8479-231cf61e933e",
   "metadata": {},
   "outputs": [],
   "source": [
    "from sklearn.preprocessing import MinMaxScaler\n",
    "\n",
    "# Tạo đối tượng MinMaxScaler\n",
    "min_max_scaler = MinMaxScaler()\n",
    "\n",
    "# Áp dụng chuẩn hóa cho các đặc trưng được lựa chọn\n",
    "scaled_data = min_max_scaler.fit_transform(df[feature_names])"
   ]
  },
  {
   "cell_type": "markdown",
   "id": "23ec897f-0227-4fff-8a65-b2d9389fe13f",
   "metadata": {},
   "source": [
    "## 3. Áp dụng thuật toán K-Means Clustering"
   ]
  },
  {
   "cell_type": "markdown",
   "id": "3bccd20f-cf62-418a-a2de-0b37848b012f",
   "metadata": {},
   "source": [
    "Khi áp dụng thuật toán phân cụm K-means, việc chọn số lượng cụm (k) là một bước quan trọng để đảm bảo kết quả phân cụm phản ánh đúng cấu trúc dữ liệu. Tuy nhiên, không có một giá trị k duy nhất là tối ưu cho tất cả các bài toán. Do đó, cần phải thử nghiệm với nhiều giá trị k khác nhau để xác định số cụm phù hợp. Quá trình này thường bao gồm việc lặp qua các số lượng cụm khác nhau, tính toán và đánh giá các chỉ số như tổng sai số trong cụm (inertia), Silhouette Score, hay Gap Statistic. Mỗi chỉ số giúp đánh giá chất lượng phân cụm theo những cách khác nhau, từ đó đưa ra quyết định về số lượng cụm tối ưu, đảm bảo phân cụm hiệu quả và có ý nghĩa đối với dữ liệu."
   ]
  },
  {
   "cell_type": "code",
   "execution_count": 8,
   "id": "339b6f84-d9d3-4e70-a3e5-2fad5b9ccd78",
   "metadata": {},
   "outputs": [],
   "source": [
    "# Các module cần thiết để thực hiện\n",
    "from sklearn.cluster import KMeans\n",
    "import matplotlib.pyplot as plt\n",
    "from sklearn.metrics import silhouette_score"
   ]
  },
  {
   "cell_type": "markdown",
   "id": "e2a8ee3b-d548-4c99-8455-e71caae05390",
   "metadata": {},
   "source": [
    "### **3.1 Phương pháp Elbow (Phương pháp khuỷu tay)**"
   ]
  },
  {
   "cell_type": "markdown",
   "id": "4e48ecef-2b14-4451-991c-a1737ad22cb7",
   "metadata": {},
   "source": [
    "Phương pháp **Elbow** là một kỹ thuật phổ biến trong phân tích cụm (clustering) để xác định số lượng cụm tối ưu cho một bộ dữ liệu, đặc biệt khi sử dụng thuật toán k-means.\n",
    "#### Quy trình:\n",
    "1. **Áp dụng thuật toán k-means** với các giá trị số lượng cụm k khác nhau (thường từ 1 đến 10 hoặc 15).\n",
    "2. **Tính toán tổng sai số bình phương (SSE - Sum of Squared Errors)**, thể hiện độ lệch giữa các điểm dữ liệu và tâm của cụm, cho mỗi giá trị k.\n",
    "3. **Vẽ biểu đồ** với số lượng cụm k trên trục hoành và SSE trên trục tung.\n",
    "4. **Phân tích biểu đồ** để tìm điểm \"gập\" (elbow), là điểm mà sau đó sự giảm sút của SSE trở nên chậm lại. Điểm này chỉ ra số lượng cụm tối ưu.\n",
    "#### Lý do:\n",
    "Khi số lượng cụm tăng, SSE sẽ giảm vì các điểm dữ liệu được phân chia vào các cụm nhỏ hơn, làm giảm độ lệch. Tuy nhiên, sau một số lượng cụm nhất định, việc giảm SSE không còn rõ rệt nữa và tạo thành một \"khuỷu tay\" trên biểu đồ. Phương pháp Elbow giúp xác định số lượng cụm tối ưu bằng cách dựa vào điểm này, tránh việc lựa chọn quá ít hoặc quá nhiều cụm."
   ]
  },
  {
   "cell_type": "markdown",
   "id": "4b4bc747-6b63-4449-aa16-52ff63152482",
   "metadata": {},
   "source": [
    "### Thực hiện phương pháp Elbow"
   ]
  },
  {
   "cell_type": "code",
   "execution_count": 9,
   "id": "ba1bc274-483d-4a8f-80ed-7930342e4a6c",
   "metadata": {},
   "outputs": [],
   "source": [
    "def elbow_method(data, max_clusters=10):\n",
    "    inertias = []\n",
    "    for k in range(1, max_clusters + 1):\n",
    "        kmeans = KMeans(n_clusters=k, random_state=42)\n",
    "        kmeans.fit(data)\n",
    "        inertias.append(kmeans.inertia_)\n",
    "    \n",
    "    plt.figure(figsize=(10, 6))\n",
    "    plt.plot(range(1, max_clusters + 1), inertias, marker='o')\n",
    "    plt.title('Phương Pháp Khuỷu Tay (Elbow Method)')\n",
    "    plt.xlabel('Số Lượng Cụm')\n",
    "    plt.ylabel('Inertia')\n",
    "    plt.show()\n",
    "    return inertias"
   ]
  },
  {
   "cell_type": "markdown",
   "id": "1c571865-7113-421d-882d-65a26b9954fc",
   "metadata": {},
   "source": [
    "### **3.2 Phương pháp Silhouette Score**"
   ]
  },
  {
   "cell_type": "markdown",
   "id": "f7d4c41b-d2df-417e-9af5-f83aecb16ccb",
   "metadata": {},
   "source": [
    "Phương pháp **Silhouette Score** là một chỉ số đánh giá chất lượng của các cụm trong phân tích cụm (clustering). Chỉ số này đo lường mức độ phù hợp của mỗi điểm dữ liệu với cụm mà nó thuộc về, so với các cụm khác. Phương pháp này giúp xác định mức độ phân chia tốt của dữ liệu mà không phụ thuộc vào số lượng cụm đã chọn trước.\n",
    "#### Cách tính:\n",
    "Silhouette Score của mỗi điểm dữ liệu được tính bằng cách sử dụng hai giá trị:\n",
    "1. **a(i)**: Độ tương đồng trung bình giữa điểm i và các điểm khác trong cùng một cụm. Đây là khoảng cách trung bình từ điểm i đến các điểm khác trong cụm của nó.\n",
    "2. **b(i)**: Độ tương đồng trung bình giữa điểm i và các điểm trong cụm gần nhất không chứa điểm i. Đây là khoảng cách trung bình từ điểm i đến các điểm trong cụm khác.\n",
    "\n",
    "#### Silhouette Score của điểm i được tính bằng công thức:\n",
    "$$\n",
    "S(i) = \\frac {b(i) - a(i)}{\\max\\{a(i),b(i)\\}}\n",
    "$$\n",
    "\n",
    "Chỉ số này có giá trị trong khoảng từ -1 đến 1:\n",
    "\n",
    "- Gần 1: Điểm i gần với các điểm trong cụm của nó và xa các cụm khác, nghĩa là cụm được phân chia tốt.\n",
    "- Gần 0: Điểm i nằm gần biên giới của hai cụm, nghĩa là việc phân chia không rõ ràng.\n",
    "- Gần -1: Điểm i có thể đã bị phân vào cụm sai, nghĩa là phân chia không hợp lý.\n",
    "\n",
    "#### Lý do sử dụng:\n",
    "\n",
    "Silhouette Score giúp đánh giá không chỉ độ phân tách giữa các cụm mà còn mức độ liên kết giữa các điểm trong cùng một cụm. Nó giúp chọn số lượng cụm tối ưu và điều chỉnh thuật toán phân cụm để đạt được kết quả tốt nhất."
   ]
  },
  {
   "cell_type": "markdown",
   "id": "08f12f51-7f4d-4754-8867-fbdc3ffa9339",
   "metadata": {},
   "source": [
    "### Thực hiện phương pháp Silhouette Score"
   ]
  },
  {
   "cell_type": "code",
   "execution_count": 10,
   "id": "29278ff8-a856-4371-951e-bd670e219594",
   "metadata": {},
   "outputs": [],
   "source": [
    "def silhouette_analysis(data, max_clusters=10):\n",
    "    silhouette_scores = []\n",
    "    for k in range(2, max_clusters + 1):\n",
    "        kmeans = KMeans(n_clusters=k, random_state=42)\n",
    "        cluster_labels = kmeans.fit_predict(data)\n",
    "        score = silhouette_score(data, cluster_labels)\n",
    "        silhouette_scores.append(score)\n",
    "    \n",
    "    plt.figure(figsize=(10, 6))\n",
    "    plt.plot(range(2, max_clusters + 1), silhouette_scores, marker='o')\n",
    "    plt.title('Phương pháp Silhouette Score')\n",
    "    plt.xlabel('Số Lượng Cụm')\n",
    "    plt.ylabel('Silhouette Score')\n",
    "    plt.show()\n",
    "    return silhouette_scores"
   ]
  },
  {
   "cell_type": "markdown",
   "id": "a26eb18e-ab07-4b5c-b66b-e7f0ca0a59be",
   "metadata": {},
   "source": [
    "### **3.3 Phương pháp Gap Statistic (Phương pháp khoảng cách)**"
   ]
  },
  {
   "cell_type": "markdown",
   "id": "8696d53b-fa61-4b2c-9fdf-def69741660a",
   "metadata": {},
   "source": [
    "**Gap Statistic** là một phương pháp dùng để xác định số lượng cụm tối ưu trong phân tích cụm (clustering), đặc biệt khi sử dụng thuật toán như k-means. Phương pháp này so sánh sự khác biệt giữa tổng sai số bình phương (SSE) của mô hình thực tế và SSE của mô hình giả định, với các cụm ngẫu nhiên tạo ra từ dữ liệu ngẫu nhiên.\n",
    "#### Quy trình:\n",
    "1. Áp dụng thuật toán k-means với một số lượng cụm k khác nhau (từ 1 đến k_max) cho bộ dữ liệu thực tế.\n",
    "2. Tạo dữ liệu giả lập bằng cách sinh các bộ dữ liệu ngẫu nhiên có cùng phân phối với dữ liệu thực tế nhưng không có cấu trúc cụm.\n",
    "3. Tính toán tổng sai số bình phương (SSE) cho mỗi k trên cả dữ liệu thực tế và dữ liệu ngẫu nhiên.\n",
    "4. So sánh sự chênh lệch giữa SSE của dữ liệu thực tế và SSE của dữ liệu ngẫu nhiên. Gap Statistic được tính bằng:\n",
    "$$\n",
    "\\text{Gap}(k) = \\frac{1}{B} \\sum_{b=1}^{B} \\log(W_k^b) - \\log(W_k)\n",
    "$$\n",
    "trong đó:\n",
    "- $W_k$: Tổng sai số bình phương của k cụm trên dữ liệu thực tế.\n",
    "- $W_k^b$​: Tổng sai số bình phương của k cụm trên dữ liệu ngẫu nhiên (với B là số lần tạo dữ liệu ngẫu nhiên).\n",
    "\n",
    "5. Chọn số lượng cụm tối ưu k tại điểm mà giá trị Gap Statistic đạt cực đại. Đây là số lượng cụm mà sự khác biệt giữa mô hình thực tế và mô hình ngẫu nhiên lớn nhất, cho thấy sự phân tách rõ ràng giữa các cụm trong dữ liệu.\n",
    "\n",
    "#### Lý do sử dụng:\n",
    "\n",
    "Phương pháp Gap Statistic giúp xác định số lượng cụm tối ưu mà không cần phải dựa vào trực quan hoặc các giả thuyết trước về số lượng cụm. Nó rất hữu ích khi không có thông tin trước về cấu trúc dữ liệu và cần một cách tiếp cận khách quan để xác định số lượng cụm phù hợp.\n"
   ]
  },
  {
   "cell_type": "markdown",
   "id": "856f8b97-4708-4d01-b1c8-9aa58ab88c00",
   "metadata": {},
   "source": [
    "### Thực hiện phương pháp Gap Statistic"
   ]
  },
  {
   "cell_type": "code",
   "execution_count": 11,
   "id": "b77959fb-3602-4200-975f-f2fd79ed9938",
   "metadata": {},
   "outputs": [],
   "source": [
    "def gap_statistic(data, max_clusters=10, nrefs=20):\n",
    "    # Tạo dữ liệu tham chiếu một lần duy nhất\n",
    "    refs = np.random.rand(nrefs, data.shape[0], data.shape[1])\n",
    "    \n",
    "    # Tính toán Gap Statistic cho các k\n",
    "    gaps = np.zeros(max_clusters)\n",
    "    for i, n_clusters in enumerate(range(1, max_clusters + 1)):\n",
    "        # KMeans cho dữ liệu thực tế\n",
    "        kmeans = KMeans(n_clusters=n_clusters, random_state=42)\n",
    "        kmeans.fit(data)\n",
    "        \n",
    "        # Tính toán phân tán cho dữ liệu tham chiếu\n",
    "        ref_dispersions = np.zeros(nrefs)\n",
    "        for j in range(nrefs):\n",
    "            ref_kmeans = KMeans(n_clusters=n_clusters, random_state=42)\n",
    "            ref_kmeans.fit(refs[j, :, :])\n",
    "            ref_dispersions[j] = np.log(ref_kmeans.inertia_)\n",
    "        \n",
    "        # Tính Gap Statistic\n",
    "        gaps[i] = np.mean(ref_dispersions) - np.log(kmeans.inertia_)\n",
    "    \n",
    "    # Vẽ đồ thị Gap Statistic\n",
    "    plt.figure(figsize=(10, 6))\n",
    "    plt.plot(range(1, max_clusters + 1), gaps, marker='o')\n",
    "    plt.title('Phương pháp Gap Statistic')\n",
    "    plt.xlabel('Số lượng cụm')\n",
    "    plt.ylabel('Gap Statistic')\n",
    "    plt.show()\n",
    "\n",
    "    return gaps"
   ]
  },
  {
   "cell_type": "markdown",
   "id": "98054466-d293-4447-9252-1a48b4f437db",
   "metadata": {},
   "source": [
    "### **3.4 Áp dụng các phương pháp để so sánh và tìm ra mô hình tốt nhất cho K-Means**"
   ]
  },
  {
   "cell_type": "code",
   "execution_count": 12,
   "id": "01dd265b-92fb-406a-9544-e7156684b403",
   "metadata": {},
   "outputs": [
    {
     "name": "stdout",
     "output_type": "stream",
     "text": [
      "1. Phương Pháp Khuỷu Tay (Elbow Method):\n"
     ]
    },
    {
     "data": {
      "image/png": "[encoded data removed]",
      "text/plain": [
       "<Figure size 1000x600 with 1 Axes>"
      ]
     },
     "metadata": {},
     "output_type": "display_data"
    },
    {
     "name": "stdout",
     "output_type": "stream",
     "text": [
      "\n",
      "2. Phân Tích Silhouette Score:\n"
     ]
    },
    {
     "data": {
      "image/png": "[encoded data removed]",
      "text/plain": [
       "<Figure size 1000x600 with 1 Axes>"
      ]
     },
     "metadata": {},
     "output_type": "display_data"
    },
    {
     "name": "stdout",
     "output_type": "stream",
     "text": [
      "\n",
      "3. Phương Pháp Gap Statistic:\n"
     ]
    },
    {
     "data": {
      "image/png": "[encoded data removed]",
      "text/plain": [
       "<Figure size 1000x600 with 1 Axes>"
      ]
     },
     "metadata": {},
     "output_type": "display_data"
    }
   ],
   "source": [
    "print(\"1. Phương Pháp Khuỷu Tay (Elbow Method):\")\n",
    "elbow_inertias = elbow_method(scaled_data)\n",
    "\n",
    "print(\"\\n2. Phân Tích Silhouette Score:\")\n",
    "silhouette_scores = silhouette_analysis(scaled_data)\n",
    "\n",
    "print(\"\\n3. Phương Pháp Gap Statistic:\")\n",
    "gaps = gap_statistic(scaled_data)"
   ]
  },
  {
   "cell_type": "markdown",
   "id": "b907fa63-afa2-467e-bff4-8fb1369b1a39",
   "metadata": {},
   "source": [
    "Dựa trên kết hợp của ba biểu đồ - Elbow Method, Silhouette Score và Gap Statistic - để chọn số lượng cụm tối ưu cho thuật toán k-means, chúng ta có thể đưa ra kết luận như sau:\n",
    "\n",
    "1. **Elbow Method**: Biểu đồ Elbow Method cho thấy có một \"khuỷu tay\" (elbow) xảy ra ở khoảng 5-6 cụm, gợi ý rằng số lượng cụm tối ưu nằm trong khoảng này.\n",
    "\n",
    "2. **Silhouette Score**: Biểu đồ Silhouette Score đạt giá trị cao nhất ở 5 cụm, cho thấy cách phân nhóm này là tối ưu nhất.\n",
    "\n",
    "3. **Gap Statistic**: Biểu đồ Gap Statistic cho thấy giá trị Gap tăng dần khi số lượng cụm tăng lên, và có sự gia tăng rõ rệt ở 5 cụm. Điều này cũng gợi ý rằng 5 cụm là số lượng tối ưu.\n",
    "\n",
    "Kết hợp các phân tích từ ba phương pháp trên, chúng ta có thể kết luận rằng số lượng cụm tối ưu nhất cho thuật toán k-means là 5 cụm. Điều này được hỗ trợ bởi cả ba phương pháp - Elbow Method, Silhouette Score và Gap Statistic - đều chỉ ra rằng 5 cụm là số lượng tối ưu."
   ]
  },
  {
   "cell_type": "markdown",
   "id": "7f0e01e8-05ee-4602-9d27-37b8830fb724",
   "metadata": {},
   "source": [
    "Do đó sẽ huấn luyện mô hình K-Means với số lượng cụm là 5"
   ]
  },
  {
   "cell_type": "code",
   "execution_count": 13,
   "id": "1dd0ae90-96de-4faf-a056-ac1d9601ff18",
   "metadata": {},
   "outputs": [],
   "source": [
    "kmeans = KMeans(n_clusters=5, random_state=42)\n",
    "\n",
    "clusters = kmeans.fit_predict(scaled_data)"
   ]
  },
  {
   "cell_type": "markdown",
   "id": "243e8625-c5a6-4997-9876-74c364c04719",
   "metadata": {},
   "source": [
    "## 4. Trả lời câu hỏi"
   ]
  },
  {
   "cell_type": "code",
   "execution_count": null,
   "id": "855474c8-6b68-4be1-b9e0-df05b4f70116",
   "metadata": {},
   "outputs": [],
   "source": []
  }
 ],
 "metadata": {
  "kernelspec": {
   "display_name": "ITDS",
   "language": "python",
   "name": "min_ds-env2"
  },
  "language_info": {
   "codemirror_mode": {
    "name": "ipython",
    "version": 3
   },
   "file_extension": ".py",
   "mimetype": "text/x-python",
   "name": "python",
   "nbconvert_exporter": "python",
   "pygments_lexer": "ipython3",
   "version": "3.10.15"
  }
 },
 "nbformat": 4,
 "nbformat_minor": 5
}
